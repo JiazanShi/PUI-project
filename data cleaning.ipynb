{
 "cells": [
  {
   "cell_type": "code",
   "execution_count": 1,
   "id": "9e959870",
   "metadata": {},
   "outputs": [],
   "source": [
    "import pandas as pd"
   ]
  },
  {
   "cell_type": "code",
   "execution_count": 2,
   "id": "9805e039",
   "metadata": {},
   "outputs": [
    {
     "name": "stderr",
     "output_type": "stream",
     "text": [
      "/var/folders/m_/swwg3ntd0f77llsbm3pv8_r00000gn/T/ipykernel_50364/2647145425.py:1: DtypeWarning: Columns (6,8) have mixed types. Specify dtype option on import or set low_memory=False.\n",
      "  data = pd.read_csv('citibike.csv')\n"
     ]
    }
   ],
   "source": [
    "data = pd.read_csv('citibike.csv')"
   ]
  },
  {
   "cell_type": "code",
   "execution_count": 3,
   "id": "d1b2f20d",
   "metadata": {},
   "outputs": [
    {
     "data": {
      "text/plain": [
       "30487735"
      ]
     },
     "execution_count": 3,
     "metadata": {},
     "output_type": "execute_result"
    }
   ],
   "source": [
    "len(data)"
   ]
  },
  {
   "cell_type": "code",
   "execution_count": 4,
   "id": "10817636",
   "metadata": {},
   "outputs": [
    {
     "data": {
      "text/html": [
       "<div>\n",
       "<style scoped>\n",
       "    .dataframe tbody tr th:only-of-type {\n",
       "        vertical-align: middle;\n",
       "    }\n",
       "\n",
       "    .dataframe tbody tr th {\n",
       "        vertical-align: top;\n",
       "    }\n",
       "\n",
       "    .dataframe thead th {\n",
       "        text-align: right;\n",
       "    }\n",
       "</style>\n",
       "<table border=\"1\" class=\"dataframe\">\n",
       "  <thead>\n",
       "    <tr style=\"text-align: right;\">\n",
       "      <th></th>\n",
       "      <th>Unnamed: 0</th>\n",
       "      <th>ride_id</th>\n",
       "      <th>rideable_type</th>\n",
       "      <th>started_at</th>\n",
       "      <th>ended_at</th>\n",
       "      <th>start_station_name</th>\n",
       "      <th>start_station_id</th>\n",
       "      <th>end_station_name</th>\n",
       "      <th>end_station_id</th>\n",
       "      <th>start_lat</th>\n",
       "      <th>start_lng</th>\n",
       "      <th>end_lat</th>\n",
       "      <th>end_lng</th>\n",
       "      <th>member_casual</th>\n",
       "    </tr>\n",
       "  </thead>\n",
       "  <tbody>\n",
       "    <tr>\n",
       "      <th>0</th>\n",
       "      <td>0</td>\n",
       "      <td>FA2F660C8D433037</td>\n",
       "      <td>electric_bike</td>\n",
       "      <td>2022-03-04 18:58:36</td>\n",
       "      <td>2022-03-04 19:13:51</td>\n",
       "      <td>Washington St &amp; Barrow St</td>\n",
       "      <td>5847.08</td>\n",
       "      <td>University Pl &amp; E 14 St</td>\n",
       "      <td>5905.14</td>\n",
       "      <td>40.731911</td>\n",
       "      <td>-74.008769</td>\n",
       "      <td>40.734814</td>\n",
       "      <td>-73.992085</td>\n",
       "      <td>member</td>\n",
       "    </tr>\n",
       "    <tr>\n",
       "      <th>1</th>\n",
       "      <td>1</td>\n",
       "      <td>03B6FE6FAEE61465</td>\n",
       "      <td>classic_bike</td>\n",
       "      <td>2022-03-06 20:37:09</td>\n",
       "      <td>2022-03-06 20:45:28</td>\n",
       "      <td>Washington St &amp; Barrow St</td>\n",
       "      <td>5847.08</td>\n",
       "      <td>W 11 St &amp; 6 Ave</td>\n",
       "      <td>5914.03</td>\n",
       "      <td>40.731911</td>\n",
       "      <td>-74.008769</td>\n",
       "      <td>40.735324</td>\n",
       "      <td>-73.998004</td>\n",
       "      <td>member</td>\n",
       "    </tr>\n",
       "    <tr>\n",
       "      <th>2</th>\n",
       "      <td>2</td>\n",
       "      <td>6E6995761B4A5760</td>\n",
       "      <td>classic_bike</td>\n",
       "      <td>2022-03-01 15:13:49</td>\n",
       "      <td>2022-03-01 15:19:53</td>\n",
       "      <td>1 Ave &amp; E 110 St</td>\n",
       "      <td>7522.02</td>\n",
       "      <td>E 110 St &amp; Madison Ave</td>\n",
       "      <td>7587.14</td>\n",
       "      <td>40.792327</td>\n",
       "      <td>-73.938300</td>\n",
       "      <td>40.796154</td>\n",
       "      <td>-73.947821</td>\n",
       "      <td>member</td>\n",
       "    </tr>\n",
       "    <tr>\n",
       "      <th>3</th>\n",
       "      <td>3</td>\n",
       "      <td>AA51CCF6CEDD6033</td>\n",
       "      <td>classic_bike</td>\n",
       "      <td>2022-03-11 13:59:03</td>\n",
       "      <td>2022-03-11 14:06:43</td>\n",
       "      <td>Crescent St &amp; Broadway</td>\n",
       "      <td>6827.11</td>\n",
       "      <td>31 Rd &amp; 21 St</td>\n",
       "      <td>6929.02</td>\n",
       "      <td>40.763359</td>\n",
       "      <td>-73.928647</td>\n",
       "      <td>40.766824</td>\n",
       "      <td>-73.930486</td>\n",
       "      <td>member</td>\n",
       "    </tr>\n",
       "    <tr>\n",
       "      <th>4</th>\n",
       "      <td>4</td>\n",
       "      <td>72AA3A7D430D8EF8</td>\n",
       "      <td>classic_bike</td>\n",
       "      <td>2022-03-08 14:59:16</td>\n",
       "      <td>2022-03-08 15:05:04</td>\n",
       "      <td>Crescent St &amp; Broadway</td>\n",
       "      <td>6827.11</td>\n",
       "      <td>31 Rd &amp; 21 St</td>\n",
       "      <td>6929.02</td>\n",
       "      <td>40.763359</td>\n",
       "      <td>-73.928647</td>\n",
       "      <td>40.766824</td>\n",
       "      <td>-73.930486</td>\n",
       "      <td>member</td>\n",
       "    </tr>\n",
       "  </tbody>\n",
       "</table>\n",
       "</div>"
      ],
      "text/plain": [
       "   Unnamed: 0           ride_id  rideable_type           started_at  \\\n",
       "0           0  FA2F660C8D433037  electric_bike  2022-03-04 18:58:36   \n",
       "1           1  03B6FE6FAEE61465   classic_bike  2022-03-06 20:37:09   \n",
       "2           2  6E6995761B4A5760   classic_bike  2022-03-01 15:13:49   \n",
       "3           3  AA51CCF6CEDD6033   classic_bike  2022-03-11 13:59:03   \n",
       "4           4  72AA3A7D430D8EF8   classic_bike  2022-03-08 14:59:16   \n",
       "\n",
       "              ended_at         start_station_name start_station_id  \\\n",
       "0  2022-03-04 19:13:51  Washington St & Barrow St          5847.08   \n",
       "1  2022-03-06 20:45:28  Washington St & Barrow St          5847.08   \n",
       "2  2022-03-01 15:19:53           1 Ave & E 110 St          7522.02   \n",
       "3  2022-03-11 14:06:43     Crescent St & Broadway          6827.11   \n",
       "4  2022-03-08 15:05:04     Crescent St & Broadway          6827.11   \n",
       "\n",
       "          end_station_name end_station_id  start_lat  start_lng    end_lat  \\\n",
       "0  University Pl & E 14 St        5905.14  40.731911 -74.008769  40.734814   \n",
       "1          W 11 St & 6 Ave        5914.03  40.731911 -74.008769  40.735324   \n",
       "2   E 110 St & Madison Ave        7587.14  40.792327 -73.938300  40.796154   \n",
       "3            31 Rd & 21 St        6929.02  40.763359 -73.928647  40.766824   \n",
       "4            31 Rd & 21 St        6929.02  40.763359 -73.928647  40.766824   \n",
       "\n",
       "     end_lng member_casual  \n",
       "0 -73.992085        member  \n",
       "1 -73.998004        member  \n",
       "2 -73.947821        member  \n",
       "3 -73.930486        member  \n",
       "4 -73.930486        member  "
      ]
     },
     "execution_count": 4,
     "metadata": {},
     "output_type": "execute_result"
    }
   ],
   "source": [
    "data.head()"
   ]
  },
  {
   "cell_type": "code",
   "execution_count": 5,
   "id": "adf69a1a",
   "metadata": {},
   "outputs": [],
   "source": [
    "data = data.drop(columns = ['Unnamed: 0'])"
   ]
  },
  {
   "cell_type": "code",
   "execution_count": 6,
   "id": "5d282754",
   "metadata": {},
   "outputs": [
    {
     "data": {
      "text/html": [
       "<div>\n",
       "<style scoped>\n",
       "    .dataframe tbody tr th:only-of-type {\n",
       "        vertical-align: middle;\n",
       "    }\n",
       "\n",
       "    .dataframe tbody tr th {\n",
       "        vertical-align: top;\n",
       "    }\n",
       "\n",
       "    .dataframe thead th {\n",
       "        text-align: right;\n",
       "    }\n",
       "</style>\n",
       "<table border=\"1\" class=\"dataframe\">\n",
       "  <thead>\n",
       "    <tr style=\"text-align: right;\">\n",
       "      <th></th>\n",
       "      <th>ride_id</th>\n",
       "      <th>rideable_type</th>\n",
       "      <th>started_at</th>\n",
       "      <th>ended_at</th>\n",
       "      <th>start_station_name</th>\n",
       "      <th>start_station_id</th>\n",
       "      <th>end_station_name</th>\n",
       "      <th>end_station_id</th>\n",
       "      <th>start_lat</th>\n",
       "      <th>start_lng</th>\n",
       "      <th>end_lat</th>\n",
       "      <th>end_lng</th>\n",
       "      <th>member_casual</th>\n",
       "    </tr>\n",
       "  </thead>\n",
       "  <tbody>\n",
       "    <tr>\n",
       "      <th>0</th>\n",
       "      <td>FA2F660C8D433037</td>\n",
       "      <td>electric_bike</td>\n",
       "      <td>2022-03-04 18:58:36</td>\n",
       "      <td>2022-03-04 19:13:51</td>\n",
       "      <td>Washington St &amp; Barrow St</td>\n",
       "      <td>5847.08</td>\n",
       "      <td>University Pl &amp; E 14 St</td>\n",
       "      <td>5905.14</td>\n",
       "      <td>40.731911</td>\n",
       "      <td>-74.008769</td>\n",
       "      <td>40.734814</td>\n",
       "      <td>-73.992085</td>\n",
       "      <td>member</td>\n",
       "    </tr>\n",
       "    <tr>\n",
       "      <th>1</th>\n",
       "      <td>03B6FE6FAEE61465</td>\n",
       "      <td>classic_bike</td>\n",
       "      <td>2022-03-06 20:37:09</td>\n",
       "      <td>2022-03-06 20:45:28</td>\n",
       "      <td>Washington St &amp; Barrow St</td>\n",
       "      <td>5847.08</td>\n",
       "      <td>W 11 St &amp; 6 Ave</td>\n",
       "      <td>5914.03</td>\n",
       "      <td>40.731911</td>\n",
       "      <td>-74.008769</td>\n",
       "      <td>40.735324</td>\n",
       "      <td>-73.998004</td>\n",
       "      <td>member</td>\n",
       "    </tr>\n",
       "    <tr>\n",
       "      <th>2</th>\n",
       "      <td>6E6995761B4A5760</td>\n",
       "      <td>classic_bike</td>\n",
       "      <td>2022-03-01 15:13:49</td>\n",
       "      <td>2022-03-01 15:19:53</td>\n",
       "      <td>1 Ave &amp; E 110 St</td>\n",
       "      <td>7522.02</td>\n",
       "      <td>E 110 St &amp; Madison Ave</td>\n",
       "      <td>7587.14</td>\n",
       "      <td>40.792327</td>\n",
       "      <td>-73.938300</td>\n",
       "      <td>40.796154</td>\n",
       "      <td>-73.947821</td>\n",
       "      <td>member</td>\n",
       "    </tr>\n",
       "    <tr>\n",
       "      <th>3</th>\n",
       "      <td>AA51CCF6CEDD6033</td>\n",
       "      <td>classic_bike</td>\n",
       "      <td>2022-03-11 13:59:03</td>\n",
       "      <td>2022-03-11 14:06:43</td>\n",
       "      <td>Crescent St &amp; Broadway</td>\n",
       "      <td>6827.11</td>\n",
       "      <td>31 Rd &amp; 21 St</td>\n",
       "      <td>6929.02</td>\n",
       "      <td>40.763359</td>\n",
       "      <td>-73.928647</td>\n",
       "      <td>40.766824</td>\n",
       "      <td>-73.930486</td>\n",
       "      <td>member</td>\n",
       "    </tr>\n",
       "    <tr>\n",
       "      <th>4</th>\n",
       "      <td>72AA3A7D430D8EF8</td>\n",
       "      <td>classic_bike</td>\n",
       "      <td>2022-03-08 14:59:16</td>\n",
       "      <td>2022-03-08 15:05:04</td>\n",
       "      <td>Crescent St &amp; Broadway</td>\n",
       "      <td>6827.11</td>\n",
       "      <td>31 Rd &amp; 21 St</td>\n",
       "      <td>6929.02</td>\n",
       "      <td>40.763359</td>\n",
       "      <td>-73.928647</td>\n",
       "      <td>40.766824</td>\n",
       "      <td>-73.930486</td>\n",
       "      <td>member</td>\n",
       "    </tr>\n",
       "  </tbody>\n",
       "</table>\n",
       "</div>"
      ],
      "text/plain": [
       "            ride_id  rideable_type           started_at             ended_at  \\\n",
       "0  FA2F660C8D433037  electric_bike  2022-03-04 18:58:36  2022-03-04 19:13:51   \n",
       "1  03B6FE6FAEE61465   classic_bike  2022-03-06 20:37:09  2022-03-06 20:45:28   \n",
       "2  6E6995761B4A5760   classic_bike  2022-03-01 15:13:49  2022-03-01 15:19:53   \n",
       "3  AA51CCF6CEDD6033   classic_bike  2022-03-11 13:59:03  2022-03-11 14:06:43   \n",
       "4  72AA3A7D430D8EF8   classic_bike  2022-03-08 14:59:16  2022-03-08 15:05:04   \n",
       "\n",
       "          start_station_name start_station_id         end_station_name  \\\n",
       "0  Washington St & Barrow St          5847.08  University Pl & E 14 St   \n",
       "1  Washington St & Barrow St          5847.08          W 11 St & 6 Ave   \n",
       "2           1 Ave & E 110 St          7522.02   E 110 St & Madison Ave   \n",
       "3     Crescent St & Broadway          6827.11            31 Rd & 21 St   \n",
       "4     Crescent St & Broadway          6827.11            31 Rd & 21 St   \n",
       "\n",
       "  end_station_id  start_lat  start_lng    end_lat    end_lng member_casual  \n",
       "0        5905.14  40.731911 -74.008769  40.734814 -73.992085        member  \n",
       "1        5914.03  40.731911 -74.008769  40.735324 -73.998004        member  \n",
       "2        7587.14  40.792327 -73.938300  40.796154 -73.947821        member  \n",
       "3        6929.02  40.763359 -73.928647  40.766824 -73.930486        member  \n",
       "4        6929.02  40.763359 -73.928647  40.766824 -73.930486        member  "
      ]
     },
     "execution_count": 6,
     "metadata": {},
     "output_type": "execute_result"
    }
   ],
   "source": [
    "data.head()"
   ]
  },
  {
   "cell_type": "code",
   "execution_count": 7,
   "id": "d57cee2a",
   "metadata": {},
   "outputs": [
    {
     "data": {
      "text/plain": [
       "30487735"
      ]
     },
     "execution_count": 7,
     "metadata": {},
     "output_type": "execute_result"
    }
   ],
   "source": [
    "len(data)"
   ]
  },
  {
   "cell_type": "markdown",
   "id": "ee12db88",
   "metadata": {},
   "source": [
    "First, filter out the data that start station or end station is out of NYC\n",
    "\n",
    "NYC Latitude and Longtitude\n",
    "\n",
    "West -74.257159 East -73.699215\n",
    "\n",
    "North 40.915568 South 40.495992"
   ]
  },
  {
   "cell_type": "code",
   "execution_count": 8,
   "id": "a4fcdba1",
   "metadata": {},
   "outputs": [
    {
     "data": {
      "text/plain": [
       "13"
      ]
     },
     "execution_count": 8,
     "metadata": {},
     "output_type": "execute_result"
    }
   ],
   "source": [
    "out = data.loc[(data['start_lat']>40.915568)|\n",
    "                      (data['end_lat']>40.915568)|\n",
    "                      (data['start_lat']<40.495992)|\n",
    "                      (data['end_lat']<40.495992)|\n",
    "                      (data['start_lng']>-73.699215)|\n",
    "                     (data['end_lng']>-73.699215)|\n",
    "                     (data['start_lng']<-74.257159)|\n",
    "                     (data['end_lng']<-74.257159)]\n",
    "len(out)"
   ]
  },
  {
   "cell_type": "code",
   "execution_count": 9,
   "id": "92086b5c",
   "metadata": {},
   "outputs": [
    {
     "data": {
      "text/plain": [
       "30487722"
      ]
     },
     "execution_count": 9,
     "metadata": {},
     "output_type": "execute_result"
    }
   ],
   "source": [
    "data = data.loc[~data.index.isin(out.index)]\n",
    "len(data)"
   ]
  },
  {
   "cell_type": "code",
   "execution_count": 10,
   "id": "1ae14ac6",
   "metadata": {},
   "outputs": [
    {
     "data": {
      "text/plain": [
       "Index(['ride_id', 'rideable_type', 'started_at', 'ended_at',\n",
       "       'start_station_name', 'start_station_id', 'end_station_name',\n",
       "       'end_station_id', 'start_lat', 'start_lng', 'end_lat', 'end_lng',\n",
       "       'member_casual'],\n",
       "      dtype='object')"
      ]
     },
     "execution_count": 10,
     "metadata": {},
     "output_type": "execute_result"
    }
   ],
   "source": [
    "data.columns"
   ]
  },
  {
   "cell_type": "code",
   "execution_count": 11,
   "id": "c5c390aa",
   "metadata": {},
   "outputs": [
    {
     "data": {
      "text/html": [
       "<div>\n",
       "<style scoped>\n",
       "    .dataframe tbody tr th:only-of-type {\n",
       "        vertical-align: middle;\n",
       "    }\n",
       "\n",
       "    .dataframe tbody tr th {\n",
       "        vertical-align: top;\n",
       "    }\n",
       "\n",
       "    .dataframe thead th {\n",
       "        text-align: right;\n",
       "    }\n",
       "</style>\n",
       "<table border=\"1\" class=\"dataframe\">\n",
       "  <thead>\n",
       "    <tr style=\"text-align: right;\">\n",
       "      <th></th>\n",
       "      <th>ride_id</th>\n",
       "      <th>started_at</th>\n",
       "      <th>ended_at</th>\n",
       "      <th>start_lat</th>\n",
       "      <th>start_lng</th>\n",
       "      <th>end_lat</th>\n",
       "      <th>end_lng</th>\n",
       "    </tr>\n",
       "  </thead>\n",
       "  <tbody>\n",
       "    <tr>\n",
       "      <th>0</th>\n",
       "      <td>FA2F660C8D433037</td>\n",
       "      <td>2022-03-04 18:58:36</td>\n",
       "      <td>2022-03-04 19:13:51</td>\n",
       "      <td>40.731911</td>\n",
       "      <td>-74.008769</td>\n",
       "      <td>40.734814</td>\n",
       "      <td>-73.992085</td>\n",
       "    </tr>\n",
       "    <tr>\n",
       "      <th>1</th>\n",
       "      <td>03B6FE6FAEE61465</td>\n",
       "      <td>2022-03-06 20:37:09</td>\n",
       "      <td>2022-03-06 20:45:28</td>\n",
       "      <td>40.731911</td>\n",
       "      <td>-74.008769</td>\n",
       "      <td>40.735324</td>\n",
       "      <td>-73.998004</td>\n",
       "    </tr>\n",
       "    <tr>\n",
       "      <th>2</th>\n",
       "      <td>6E6995761B4A5760</td>\n",
       "      <td>2022-03-01 15:13:49</td>\n",
       "      <td>2022-03-01 15:19:53</td>\n",
       "      <td>40.792327</td>\n",
       "      <td>-73.938300</td>\n",
       "      <td>40.796154</td>\n",
       "      <td>-73.947821</td>\n",
       "    </tr>\n",
       "    <tr>\n",
       "      <th>3</th>\n",
       "      <td>AA51CCF6CEDD6033</td>\n",
       "      <td>2022-03-11 13:59:03</td>\n",
       "      <td>2022-03-11 14:06:43</td>\n",
       "      <td>40.763359</td>\n",
       "      <td>-73.928647</td>\n",
       "      <td>40.766824</td>\n",
       "      <td>-73.930486</td>\n",
       "    </tr>\n",
       "    <tr>\n",
       "      <th>4</th>\n",
       "      <td>72AA3A7D430D8EF8</td>\n",
       "      <td>2022-03-08 14:59:16</td>\n",
       "      <td>2022-03-08 15:05:04</td>\n",
       "      <td>40.763359</td>\n",
       "      <td>-73.928647</td>\n",
       "      <td>40.766824</td>\n",
       "      <td>-73.930486</td>\n",
       "    </tr>\n",
       "  </tbody>\n",
       "</table>\n",
       "</div>"
      ],
      "text/plain": [
       "            ride_id           started_at             ended_at  start_lat  \\\n",
       "0  FA2F660C8D433037  2022-03-04 18:58:36  2022-03-04 19:13:51  40.731911   \n",
       "1  03B6FE6FAEE61465  2022-03-06 20:37:09  2022-03-06 20:45:28  40.731911   \n",
       "2  6E6995761B4A5760  2022-03-01 15:13:49  2022-03-01 15:19:53  40.792327   \n",
       "3  AA51CCF6CEDD6033  2022-03-11 13:59:03  2022-03-11 14:06:43  40.763359   \n",
       "4  72AA3A7D430D8EF8  2022-03-08 14:59:16  2022-03-08 15:05:04  40.763359   \n",
       "\n",
       "   start_lng    end_lat    end_lng  \n",
       "0 -74.008769  40.734814 -73.992085  \n",
       "1 -74.008769  40.735324 -73.998004  \n",
       "2 -73.938300  40.796154 -73.947821  \n",
       "3 -73.928647  40.766824 -73.930486  \n",
       "4 -73.928647  40.766824 -73.930486  "
      ]
     },
     "execution_count": 11,
     "metadata": {},
     "output_type": "execute_result"
    }
   ],
   "source": [
    "selectcol = ['ride_id','started_at', 'ended_at','start_lat', 'start_lng', 'end_lat', 'end_lng']\n",
    "data1 = data[selectcol]\n",
    "data1.head()"
   ]
  },
  {
   "cell_type": "code",
   "execution_count": 12,
   "id": "1931efba",
   "metadata": {},
   "outputs": [
    {
     "name": "stderr",
     "output_type": "stream",
     "text": [
      "/var/folders/m_/swwg3ntd0f77llsbm3pv8_r00000gn/T/ipykernel_50364/2871730465.py:1: SettingWithCopyWarning: \n",
      "A value is trying to be set on a copy of a slice from a DataFrame.\n",
      "Try using .loc[row_indexer,col_indexer] = value instead\n",
      "\n",
      "See the caveats in the documentation: https://pandas.pydata.org/pandas-docs/stable/user_guide/indexing.html#returning-a-view-versus-a-copy\n",
      "  data1['started_at'] = pd.to_datetime(data1['started_at'], errors='coerce')\n"
     ]
    }
   ],
   "source": [
    "data1['started_at'] = pd.to_datetime(data1['started_at'], errors='coerce')"
   ]
  },
  {
   "cell_type": "code",
   "execution_count": 13,
   "id": "2f180fe8",
   "metadata": {},
   "outputs": [
    {
     "name": "stderr",
     "output_type": "stream",
     "text": [
      "/var/folders/m_/swwg3ntd0f77llsbm3pv8_r00000gn/T/ipykernel_50364/2948922445.py:1: SettingWithCopyWarning: \n",
      "A value is trying to be set on a copy of a slice from a DataFrame.\n",
      "Try using .loc[row_indexer,col_indexer] = value instead\n",
      "\n",
      "See the caveats in the documentation: https://pandas.pydata.org/pandas-docs/stable/user_guide/indexing.html#returning-a-view-versus-a-copy\n",
      "  data1['ended_at'] = pd.to_datetime(data1['ended_at'], errors='coerce')\n"
     ]
    }
   ],
   "source": [
    "data1['ended_at'] = pd.to_datetime(data1['ended_at'], errors='coerce')"
   ]
  },
  {
   "cell_type": "code",
   "execution_count": 14,
   "id": "b0fd8095",
   "metadata": {},
   "outputs": [
    {
     "data": {
      "text/plain": [
       "30487722"
      ]
     },
     "execution_count": 14,
     "metadata": {},
     "output_type": "execute_result"
    }
   ],
   "source": [
    "len(data1)"
   ]
  },
  {
   "cell_type": "code",
   "execution_count": 15,
   "id": "8e5ed46d",
   "metadata": {},
   "outputs": [],
   "source": [
    "import numpy as np\n",
    "from datetime import datetime"
   ]
  },
  {
   "cell_type": "code",
   "execution_count": 16,
   "id": "da88911b",
   "metadata": {},
   "outputs": [
    {
     "name": "stderr",
     "output_type": "stream",
     "text": [
      "/var/folders/m_/swwg3ntd0f77llsbm3pv8_r00000gn/T/ipykernel_50364/2868481403.py:1: SettingWithCopyWarning: \n",
      "A value is trying to be set on a copy of a slice from a DataFrame.\n",
      "Try using .loc[row_indexer,col_indexer] = value instead\n",
      "\n",
      "See the caveats in the documentation: https://pandas.pydata.org/pandas-docs/stable/user_guide/indexing.html#returning-a-view-versus-a-copy\n",
      "  data1['Date'] = data1['started_at'].dt.date\n"
     ]
    },
    {
     "data": {
      "text/html": [
       "<div>\n",
       "<style scoped>\n",
       "    .dataframe tbody tr th:only-of-type {\n",
       "        vertical-align: middle;\n",
       "    }\n",
       "\n",
       "    .dataframe tbody tr th {\n",
       "        vertical-align: top;\n",
       "    }\n",
       "\n",
       "    .dataframe thead th {\n",
       "        text-align: right;\n",
       "    }\n",
       "</style>\n",
       "<table border=\"1\" class=\"dataframe\">\n",
       "  <thead>\n",
       "    <tr style=\"text-align: right;\">\n",
       "      <th></th>\n",
       "      <th>ride_id</th>\n",
       "      <th>started_at</th>\n",
       "      <th>ended_at</th>\n",
       "      <th>start_lat</th>\n",
       "      <th>start_lng</th>\n",
       "      <th>end_lat</th>\n",
       "      <th>end_lng</th>\n",
       "      <th>Date</th>\n",
       "    </tr>\n",
       "  </thead>\n",
       "  <tbody>\n",
       "    <tr>\n",
       "      <th>0</th>\n",
       "      <td>FA2F660C8D433037</td>\n",
       "      <td>2022-03-04 18:58:36</td>\n",
       "      <td>2022-03-04 19:13:51</td>\n",
       "      <td>40.731911</td>\n",
       "      <td>-74.008769</td>\n",
       "      <td>40.734814</td>\n",
       "      <td>-73.992085</td>\n",
       "      <td>2022-03-04</td>\n",
       "    </tr>\n",
       "    <tr>\n",
       "      <th>1</th>\n",
       "      <td>03B6FE6FAEE61465</td>\n",
       "      <td>2022-03-06 20:37:09</td>\n",
       "      <td>2022-03-06 20:45:28</td>\n",
       "      <td>40.731911</td>\n",
       "      <td>-74.008769</td>\n",
       "      <td>40.735324</td>\n",
       "      <td>-73.998004</td>\n",
       "      <td>2022-03-06</td>\n",
       "    </tr>\n",
       "    <tr>\n",
       "      <th>2</th>\n",
       "      <td>6E6995761B4A5760</td>\n",
       "      <td>2022-03-01 15:13:49</td>\n",
       "      <td>2022-03-01 15:19:53</td>\n",
       "      <td>40.792327</td>\n",
       "      <td>-73.938300</td>\n",
       "      <td>40.796154</td>\n",
       "      <td>-73.947821</td>\n",
       "      <td>2022-03-01</td>\n",
       "    </tr>\n",
       "    <tr>\n",
       "      <th>3</th>\n",
       "      <td>AA51CCF6CEDD6033</td>\n",
       "      <td>2022-03-11 13:59:03</td>\n",
       "      <td>2022-03-11 14:06:43</td>\n",
       "      <td>40.763359</td>\n",
       "      <td>-73.928647</td>\n",
       "      <td>40.766824</td>\n",
       "      <td>-73.930486</td>\n",
       "      <td>2022-03-11</td>\n",
       "    </tr>\n",
       "    <tr>\n",
       "      <th>4</th>\n",
       "      <td>72AA3A7D430D8EF8</td>\n",
       "      <td>2022-03-08 14:59:16</td>\n",
       "      <td>2022-03-08 15:05:04</td>\n",
       "      <td>40.763359</td>\n",
       "      <td>-73.928647</td>\n",
       "      <td>40.766824</td>\n",
       "      <td>-73.930486</td>\n",
       "      <td>2022-03-08</td>\n",
       "    </tr>\n",
       "  </tbody>\n",
       "</table>\n",
       "</div>"
      ],
      "text/plain": [
       "            ride_id          started_at            ended_at  start_lat  \\\n",
       "0  FA2F660C8D433037 2022-03-04 18:58:36 2022-03-04 19:13:51  40.731911   \n",
       "1  03B6FE6FAEE61465 2022-03-06 20:37:09 2022-03-06 20:45:28  40.731911   \n",
       "2  6E6995761B4A5760 2022-03-01 15:13:49 2022-03-01 15:19:53  40.792327   \n",
       "3  AA51CCF6CEDD6033 2022-03-11 13:59:03 2022-03-11 14:06:43  40.763359   \n",
       "4  72AA3A7D430D8EF8 2022-03-08 14:59:16 2022-03-08 15:05:04  40.763359   \n",
       "\n",
       "   start_lng    end_lat    end_lng        Date  \n",
       "0 -74.008769  40.734814 -73.992085  2022-03-04  \n",
       "1 -74.008769  40.735324 -73.998004  2022-03-06  \n",
       "2 -73.938300  40.796154 -73.947821  2022-03-01  \n",
       "3 -73.928647  40.766824 -73.930486  2022-03-11  \n",
       "4 -73.928647  40.766824 -73.930486  2022-03-08  "
      ]
     },
     "execution_count": 16,
     "metadata": {},
     "output_type": "execute_result"
    }
   ],
   "source": [
    "data1['Date'] = data1['started_at'].dt.date\n",
    "data1.head()"
   ]
  },
  {
   "cell_type": "code",
   "execution_count": 17,
   "id": "1aaefda6",
   "metadata": {},
   "outputs": [
    {
     "name": "stderr",
     "output_type": "stream",
     "text": [
      "/var/folders/m_/swwg3ntd0f77llsbm3pv8_r00000gn/T/ipykernel_50364/1465179486.py:1: SettingWithCopyWarning: \n",
      "A value is trying to be set on a copy of a slice from a DataFrame.\n",
      "Try using .loc[row_indexer,col_indexer] = value instead\n",
      "\n",
      "See the caveats in the documentation: https://pandas.pydata.org/pandas-docs/stable/user_guide/indexing.html#returning-a-view-versus-a-copy\n",
      "  data1['Duration'] = (data1['ended_at']-data1['started_at'])\n",
      "/var/folders/m_/swwg3ntd0f77llsbm3pv8_r00000gn/T/ipykernel_50364/1465179486.py:2: SettingWithCopyWarning: \n",
      "A value is trying to be set on a copy of a slice from a DataFrame.\n",
      "Try using .loc[row_indexer,col_indexer] = value instead\n",
      "\n",
      "See the caveats in the documentation: https://pandas.pydata.org/pandas-docs/stable/user_guide/indexing.html#returning-a-view-versus-a-copy\n",
      "  data1['Duration'] = data1['Duration'].dt.total_seconds()/60\n"
     ]
    },
    {
     "data": {
      "text/html": [
       "<div>\n",
       "<style scoped>\n",
       "    .dataframe tbody tr th:only-of-type {\n",
       "        vertical-align: middle;\n",
       "    }\n",
       "\n",
       "    .dataframe tbody tr th {\n",
       "        vertical-align: top;\n",
       "    }\n",
       "\n",
       "    .dataframe thead th {\n",
       "        text-align: right;\n",
       "    }\n",
       "</style>\n",
       "<table border=\"1\" class=\"dataframe\">\n",
       "  <thead>\n",
       "    <tr style=\"text-align: right;\">\n",
       "      <th></th>\n",
       "      <th>ride_id</th>\n",
       "      <th>started_at</th>\n",
       "      <th>ended_at</th>\n",
       "      <th>start_lat</th>\n",
       "      <th>start_lng</th>\n",
       "      <th>end_lat</th>\n",
       "      <th>end_lng</th>\n",
       "      <th>Date</th>\n",
       "      <th>Duration</th>\n",
       "    </tr>\n",
       "  </thead>\n",
       "  <tbody>\n",
       "    <tr>\n",
       "      <th>0</th>\n",
       "      <td>FA2F660C8D433037</td>\n",
       "      <td>2022-03-04 18:58:36</td>\n",
       "      <td>2022-03-04 19:13:51</td>\n",
       "      <td>40.731911</td>\n",
       "      <td>-74.008769</td>\n",
       "      <td>40.734814</td>\n",
       "      <td>-73.992085</td>\n",
       "      <td>2022-03-04</td>\n",
       "      <td>15.250000</td>\n",
       "    </tr>\n",
       "    <tr>\n",
       "      <th>1</th>\n",
       "      <td>03B6FE6FAEE61465</td>\n",
       "      <td>2022-03-06 20:37:09</td>\n",
       "      <td>2022-03-06 20:45:28</td>\n",
       "      <td>40.731911</td>\n",
       "      <td>-74.008769</td>\n",
       "      <td>40.735324</td>\n",
       "      <td>-73.998004</td>\n",
       "      <td>2022-03-06</td>\n",
       "      <td>8.316667</td>\n",
       "    </tr>\n",
       "    <tr>\n",
       "      <th>2</th>\n",
       "      <td>6E6995761B4A5760</td>\n",
       "      <td>2022-03-01 15:13:49</td>\n",
       "      <td>2022-03-01 15:19:53</td>\n",
       "      <td>40.792327</td>\n",
       "      <td>-73.938300</td>\n",
       "      <td>40.796154</td>\n",
       "      <td>-73.947821</td>\n",
       "      <td>2022-03-01</td>\n",
       "      <td>6.066667</td>\n",
       "    </tr>\n",
       "    <tr>\n",
       "      <th>3</th>\n",
       "      <td>AA51CCF6CEDD6033</td>\n",
       "      <td>2022-03-11 13:59:03</td>\n",
       "      <td>2022-03-11 14:06:43</td>\n",
       "      <td>40.763359</td>\n",
       "      <td>-73.928647</td>\n",
       "      <td>40.766824</td>\n",
       "      <td>-73.930486</td>\n",
       "      <td>2022-03-11</td>\n",
       "      <td>7.666667</td>\n",
       "    </tr>\n",
       "    <tr>\n",
       "      <th>4</th>\n",
       "      <td>72AA3A7D430D8EF8</td>\n",
       "      <td>2022-03-08 14:59:16</td>\n",
       "      <td>2022-03-08 15:05:04</td>\n",
       "      <td>40.763359</td>\n",
       "      <td>-73.928647</td>\n",
       "      <td>40.766824</td>\n",
       "      <td>-73.930486</td>\n",
       "      <td>2022-03-08</td>\n",
       "      <td>5.800000</td>\n",
       "    </tr>\n",
       "  </tbody>\n",
       "</table>\n",
       "</div>"
      ],
      "text/plain": [
       "            ride_id          started_at            ended_at  start_lat  \\\n",
       "0  FA2F660C8D433037 2022-03-04 18:58:36 2022-03-04 19:13:51  40.731911   \n",
       "1  03B6FE6FAEE61465 2022-03-06 20:37:09 2022-03-06 20:45:28  40.731911   \n",
       "2  6E6995761B4A5760 2022-03-01 15:13:49 2022-03-01 15:19:53  40.792327   \n",
       "3  AA51CCF6CEDD6033 2022-03-11 13:59:03 2022-03-11 14:06:43  40.763359   \n",
       "4  72AA3A7D430D8EF8 2022-03-08 14:59:16 2022-03-08 15:05:04  40.763359   \n",
       "\n",
       "   start_lng    end_lat    end_lng        Date   Duration  \n",
       "0 -74.008769  40.734814 -73.992085  2022-03-04  15.250000  \n",
       "1 -74.008769  40.735324 -73.998004  2022-03-06   8.316667  \n",
       "2 -73.938300  40.796154 -73.947821  2022-03-01   6.066667  \n",
       "3 -73.928647  40.766824 -73.930486  2022-03-11   7.666667  \n",
       "4 -73.928647  40.766824 -73.930486  2022-03-08   5.800000  "
      ]
     },
     "execution_count": 17,
     "metadata": {},
     "output_type": "execute_result"
    }
   ],
   "source": [
    "data1['Duration'] = (data1['ended_at']-data1['started_at'])\n",
    "data1['Duration'] = data1['Duration'].dt.total_seconds()/60\n",
    "data1.head()"
   ]
  },
  {
   "cell_type": "code",
   "execution_count": 18,
   "id": "57c997ff",
   "metadata": {},
   "outputs": [
    {
     "data": {
      "text/plain": [
       "(datetime.date(2021, 11, 1), datetime.date(2022, 10, 31))"
      ]
     },
     "execution_count": 18,
     "metadata": {},
     "output_type": "execute_result"
    }
   ],
   "source": [
    "(data1['Date'].min(),data1['Date'].max())"
   ]
  },
  {
   "cell_type": "code",
   "execution_count": 19,
   "id": "191cf42f",
   "metadata": {},
   "outputs": [],
   "source": [
    "import matplotlib.pyplot as plt"
   ]
  },
  {
   "cell_type": "code",
   "execution_count": 20,
   "id": "be5d9f79",
   "metadata": {},
   "outputs": [
    {
     "data": {
      "text/plain": [
       "count    3.048772e+07\n",
       "mean     1.763134e+01\n",
       "std      1.171751e+02\n",
       "min     -1.130117e+03\n",
       "25%      5.583333e+00\n",
       "50%      1.001667e+01\n",
       "75%      1.786667e+01\n",
       "max      1.589380e+05\n",
       "Name: Duration, dtype: float64"
      ]
     },
     "execution_count": 20,
     "metadata": {},
     "output_type": "execute_result"
    }
   ],
   "source": [
    "data1['Duration'].describe()"
   ]
  },
  {
   "cell_type": "code",
   "execution_count": 21,
   "id": "68e17741",
   "metadata": {},
   "outputs": [
    {
     "data": {
      "text/plain": [
       "(-1130.1166666666666, 158938.05)"
      ]
     },
     "execution_count": 21,
     "metadata": {},
     "output_type": "execute_result"
    }
   ],
   "source": [
    "(data1['Duration'].min(),data1['Duration'].max())"
   ]
  },
  {
   "cell_type": "code",
   "execution_count": 22,
   "id": "cf4acf8b",
   "metadata": {},
   "outputs": [
    {
     "data": {
      "text/plain": [
       "(array([3.0414881e+07, 7.1504000e+04, 4.2100000e+02, 2.4100000e+02,\n",
       "        1.4100000e+02, 1.0400000e+02, 8.0000000e+01, 6.7000000e+01,\n",
       "        7.7000000e+01, 4.0000000e+01, 3.6000000e+01, 2.2000000e+01,\n",
       "        2.0000000e+01, 1.3000000e+01, 8.0000000e+00, 8.0000000e+00,\n",
       "        6.0000000e+00, 1.0000000e+00, 1.0000000e+00, 6.0000000e+00,\n",
       "        7.0000000e+00, 1.0000000e+00, 1.0000000e+00, 3.0000000e+00,\n",
       "        3.0000000e+00, 0.0000000e+00, 3.0000000e+00, 4.0000000e+00,\n",
       "        2.0000000e+00, 1.0000000e+00, 2.0000000e+00, 1.0000000e+00,\n",
       "        0.0000000e+00, 0.0000000e+00, 1.0000000e+00, 0.0000000e+00,\n",
       "        2.0000000e+00, 0.0000000e+00, 0.0000000e+00, 0.0000000e+00,\n",
       "        0.0000000e+00, 1.0000000e+00, 1.0000000e+00, 0.0000000e+00,\n",
       "        0.0000000e+00, 0.0000000e+00, 1.0000000e+00, 1.0000000e+00,\n",
       "        0.0000000e+00, 0.0000000e+00, 0.0000000e+00, 0.0000000e+00,\n",
       "        1.0000000e+00, 2.0000000e+00, 0.0000000e+00, 0.0000000e+00,\n",
       "        0.0000000e+00, 0.0000000e+00, 1.0000000e+00, 0.0000000e+00,\n",
       "        1.0000000e+00, 0.0000000e+00, 0.0000000e+00, 1.0000000e+00,\n",
       "        0.0000000e+00, 0.0000000e+00, 0.0000000e+00, 0.0000000e+00,\n",
       "        0.0000000e+00, 0.0000000e+00, 1.0000000e+00, 0.0000000e+00,\n",
       "        0.0000000e+00, 0.0000000e+00, 0.0000000e+00, 1.0000000e+00,\n",
       "        0.0000000e+00, 0.0000000e+00, 0.0000000e+00, 0.0000000e+00,\n",
       "        0.0000000e+00, 0.0000000e+00, 0.0000000e+00, 0.0000000e+00,\n",
       "        0.0000000e+00, 0.0000000e+00, 0.0000000e+00, 0.0000000e+00,\n",
       "        0.0000000e+00, 0.0000000e+00, 0.0000000e+00, 1.0000000e+00,\n",
       "        0.0000000e+00, 0.0000000e+00, 0.0000000e+00, 0.0000000e+00,\n",
       "        0.0000000e+00, 0.0000000e+00, 0.0000000e+00, 1.0000000e+00]),\n",
       " array([ -1130.11666667,    470.565     ,   2071.24666667,   3671.92833333,\n",
       "          5272.61      ,   6873.29166667,   8473.97333333,  10074.655     ,\n",
       "         11675.33666667,  13276.01833333,  14876.7       ,  16477.38166667,\n",
       "         18078.06333333,  19678.745     ,  21279.42666667,  22880.10833333,\n",
       "         24480.79      ,  26081.47166667,  27682.15333333,  29282.835     ,\n",
       "         30883.51666667,  32484.19833333,  34084.88      ,  35685.56166667,\n",
       "         37286.24333333,  38886.925     ,  40487.60666667,  42088.28833333,\n",
       "         43688.97      ,  45289.65166667,  46890.33333333,  48491.015     ,\n",
       "         50091.69666667,  51692.37833333,  53293.06      ,  54893.74166667,\n",
       "         56494.42333333,  58095.105     ,  59695.78666667,  61296.46833333,\n",
       "         62897.15      ,  64497.83166667,  66098.51333333,  67699.195     ,\n",
       "         69299.87666667,  70900.55833333,  72501.24      ,  74101.92166667,\n",
       "         75702.60333333,  77303.285     ,  78903.96666667,  80504.64833333,\n",
       "         82105.33      ,  83706.01166667,  85306.69333333,  86907.375     ,\n",
       "         88508.05666667,  90108.73833333,  91709.42      ,  93310.10166667,\n",
       "         94910.78333333,  96511.465     ,  98112.14666667,  99712.82833333,\n",
       "        101313.51      , 102914.19166667, 104514.87333333, 106115.555     ,\n",
       "        107716.23666667, 109316.91833333, 110917.6       , 112518.28166667,\n",
       "        114118.96333333, 115719.645     , 117320.32666667, 118921.00833333,\n",
       "        120521.69      , 122122.37166667, 123723.05333333, 125323.735     ,\n",
       "        126924.41666667, 128525.09833333, 130125.78      , 131726.46166667,\n",
       "        133327.14333333, 134927.825     , 136528.50666667, 138129.18833333,\n",
       "        139729.87      , 141330.55166667, 142931.23333333, 144531.915     ,\n",
       "        146132.59666667, 147733.27833333, 149333.96      , 150934.64166667,\n",
       "        152535.32333333, 154136.005     , 155736.68666667, 157337.36833333,\n",
       "        158938.05      ]),\n",
       " <BarContainer object of 100 artists>)"
      ]
     },
     "execution_count": 22,
     "metadata": {},
     "output_type": "execute_result"
    },
    {
     "data": {
      "image/png": "[encoded data removed]",
      "text/plain": [
       "<Figure size 432x288 with 1 Axes>"
      ]
     },
     "metadata": {
      "needs_background": "light"
     },
     "output_type": "display_data"
    }
   ],
   "source": [
    "plt.hist(data1['Duration'], bins=100)"
   ]
  },
  {
   "cell_type": "code",
   "execution_count": 23,
   "id": "9b5b3c73",
   "metadata": {},
   "outputs": [
    {
     "data": {
      "text/plain": [
       "(array([1.0000000e+00, 0.0000000e+00, 0.0000000e+00, 0.0000000e+00,\n",
       "        0.0000000e+00, 0.0000000e+00, 0.0000000e+00, 0.0000000e+00,\n",
       "        0.0000000e+00, 0.0000000e+00, 0.0000000e+00, 0.0000000e+00,\n",
       "        0.0000000e+00, 0.0000000e+00, 0.0000000e+00, 0.0000000e+00,\n",
       "        0.0000000e+00, 0.0000000e+00, 0.0000000e+00, 0.0000000e+00,\n",
       "        0.0000000e+00, 0.0000000e+00, 0.0000000e+00, 0.0000000e+00,\n",
       "        0.0000000e+00, 0.0000000e+00, 0.0000000e+00, 0.0000000e+00,\n",
       "        0.0000000e+00, 0.0000000e+00, 0.0000000e+00, 0.0000000e+00,\n",
       "        0.0000000e+00, 0.0000000e+00, 0.0000000e+00, 0.0000000e+00,\n",
       "        0.0000000e+00, 0.0000000e+00, 0.0000000e+00, 0.0000000e+00,\n",
       "        0.0000000e+00, 0.0000000e+00, 0.0000000e+00, 0.0000000e+00,\n",
       "        0.0000000e+00, 0.0000000e+00, 0.0000000e+00, 0.0000000e+00,\n",
       "        0.0000000e+00, 0.0000000e+00, 0.0000000e+00, 0.0000000e+00,\n",
       "        0.0000000e+00, 0.0000000e+00, 0.0000000e+00, 0.0000000e+00,\n",
       "        0.0000000e+00, 0.0000000e+00, 0.0000000e+00, 0.0000000e+00,\n",
       "        0.0000000e+00, 0.0000000e+00, 0.0000000e+00, 0.0000000e+00,\n",
       "        0.0000000e+00, 0.0000000e+00, 0.0000000e+00, 0.0000000e+00,\n",
       "        0.0000000e+00, 0.0000000e+00, 0.0000000e+00, 0.0000000e+00,\n",
       "        0.0000000e+00, 0.0000000e+00, 0.0000000e+00, 0.0000000e+00,\n",
       "        0.0000000e+00, 0.0000000e+00, 0.0000000e+00, 0.0000000e+00,\n",
       "        0.0000000e+00, 0.0000000e+00, 0.0000000e+00, 0.0000000e+00,\n",
       "        0.0000000e+00, 0.0000000e+00, 0.0000000e+00, 0.0000000e+00,\n",
       "        0.0000000e+00, 0.0000000e+00, 0.0000000e+00, 0.0000000e+00,\n",
       "        0.0000000e+00, 0.0000000e+00, 0.0000000e+00, 0.0000000e+00,\n",
       "        0.0000000e+00, 0.0000000e+00, 0.0000000e+00, 0.0000000e+00,\n",
       "        0.0000000e+00, 0.0000000e+00, 0.0000000e+00, 0.0000000e+00,\n",
       "        0.0000000e+00, 0.0000000e+00, 0.0000000e+00, 0.0000000e+00,\n",
       "        0.0000000e+00, 0.0000000e+00, 0.0000000e+00, 0.0000000e+00,\n",
       "        0.0000000e+00, 0.0000000e+00, 0.0000000e+00, 0.0000000e+00,\n",
       "        0.0000000e+00, 0.0000000e+00, 0.0000000e+00, 0.0000000e+00,\n",
       "        0.0000000e+00, 0.0000000e+00, 0.0000000e+00, 0.0000000e+00,\n",
       "        0.0000000e+00, 0.0000000e+00, 0.0000000e+00, 0.0000000e+00,\n",
       "        0.0000000e+00, 0.0000000e+00, 0.0000000e+00, 0.0000000e+00,\n",
       "        0.0000000e+00, 0.0000000e+00, 0.0000000e+00, 0.0000000e+00,\n",
       "        0.0000000e+00, 0.0000000e+00, 0.0000000e+00, 0.0000000e+00,\n",
       "        0.0000000e+00, 0.0000000e+00, 0.0000000e+00, 0.0000000e+00,\n",
       "        0.0000000e+00, 0.0000000e+00, 0.0000000e+00, 0.0000000e+00,\n",
       "        0.0000000e+00, 0.0000000e+00, 0.0000000e+00, 0.0000000e+00,\n",
       "        0.0000000e+00, 0.0000000e+00, 0.0000000e+00, 0.0000000e+00,\n",
       "        0.0000000e+00, 0.0000000e+00, 0.0000000e+00, 0.0000000e+00,\n",
       "        0.0000000e+00, 4.0000000e+01, 8.8000000e+01, 7.0000000e+01,\n",
       "        2.4000000e+01, 2.3000000e+01, 1.1000000e+01, 1.5000000e+01,\n",
       "        2.8000000e+01, 4.3293500e+05, 1.0113511e+07, 9.1226180e+06,\n",
       "        4.6229320e+06, 2.5053770e+06, 1.4231720e+06, 8.1061800e+05,\n",
       "        4.7887300e+05, 2.5724500e+05, 1.6573900e+05, 1.0537600e+05,\n",
       "        7.4250000e+04, 5.5042000e+04, 4.1136000e+04, 3.1568000e+04,\n",
       "        2.4722000e+04, 1.9855000e+04, 1.6146000e+04, 1.3201000e+04,\n",
       "        1.0832000e+04, 9.1530000e+03, 7.8620000e+03, 6.6860000e+03,\n",
       "        5.8040000e+03, 4.9570000e+03, 4.2890000e+03, 3.8220000e+03,\n",
       "        3.2360000e+03, 3.3480000e+03, 3.1210000e+03, 2.6950000e+03]),\n",
       " array([-1.13011667e+03, -1.12346617e+03, -1.11681567e+03, -1.11016517e+03,\n",
       "        -1.10351467e+03, -1.09686417e+03, -1.09021367e+03, -1.08356317e+03,\n",
       "        -1.07691267e+03, -1.07026217e+03, -1.06361167e+03, -1.05696117e+03,\n",
       "        -1.05031067e+03, -1.04366017e+03, -1.03700967e+03, -1.03035917e+03,\n",
       "        -1.02370867e+03, -1.01705817e+03, -1.01040767e+03, -1.00375717e+03,\n",
       "        -9.97106667e+02, -9.90456167e+02, -9.83805667e+02, -9.77155167e+02,\n",
       "        -9.70504667e+02, -9.63854167e+02, -9.57203667e+02, -9.50553167e+02,\n",
       "        -9.43902667e+02, -9.37252167e+02, -9.30601667e+02, -9.23951167e+02,\n",
       "        -9.17300667e+02, -9.10650167e+02, -9.03999667e+02, -8.97349167e+02,\n",
       "        -8.90698667e+02, -8.84048167e+02, -8.77397667e+02, -8.70747167e+02,\n",
       "        -8.64096667e+02, -8.57446167e+02, -8.50795667e+02, -8.44145167e+02,\n",
       "        -8.37494667e+02, -8.30844167e+02, -8.24193667e+02, -8.17543167e+02,\n",
       "        -8.10892667e+02, -8.04242167e+02, -7.97591667e+02, -7.90941167e+02,\n",
       "        -7.84290667e+02, -7.77640167e+02, -7.70989667e+02, -7.64339167e+02,\n",
       "        -7.57688667e+02, -7.51038167e+02, -7.44387667e+02, -7.37737167e+02,\n",
       "        -7.31086667e+02, -7.24436167e+02, -7.17785667e+02, -7.11135167e+02,\n",
       "        -7.04484667e+02, -6.97834167e+02, -6.91183667e+02, -6.84533167e+02,\n",
       "        -6.77882667e+02, -6.71232167e+02, -6.64581667e+02, -6.57931167e+02,\n",
       "        -6.51280667e+02, -6.44630167e+02, -6.37979667e+02, -6.31329167e+02,\n",
       "        -6.24678667e+02, -6.18028167e+02, -6.11377667e+02, -6.04727167e+02,\n",
       "        -5.98076667e+02, -5.91426167e+02, -5.84775667e+02, -5.78125167e+02,\n",
       "        -5.71474667e+02, -5.64824167e+02, -5.58173667e+02, -5.51523167e+02,\n",
       "        -5.44872667e+02, -5.38222167e+02, -5.31571667e+02, -5.24921167e+02,\n",
       "        -5.18270667e+02, -5.11620167e+02, -5.04969667e+02, -4.98319167e+02,\n",
       "        -4.91668667e+02, -4.85018167e+02, -4.78367667e+02, -4.71717167e+02,\n",
       "        -4.65066667e+02, -4.58416167e+02, -4.51765667e+02, -4.45115167e+02,\n",
       "        -4.38464667e+02, -4.31814167e+02, -4.25163667e+02, -4.18513167e+02,\n",
       "        -4.11862667e+02, -4.05212167e+02, -3.98561667e+02, -3.91911167e+02,\n",
       "        -3.85260667e+02, -3.78610167e+02, -3.71959667e+02, -3.65309167e+02,\n",
       "        -3.58658667e+02, -3.52008167e+02, -3.45357667e+02, -3.38707167e+02,\n",
       "        -3.32056667e+02, -3.25406167e+02, -3.18755667e+02, -3.12105167e+02,\n",
       "        -3.05454667e+02, -2.98804167e+02, -2.92153667e+02, -2.85503167e+02,\n",
       "        -2.78852667e+02, -2.72202167e+02, -2.65551667e+02, -2.58901167e+02,\n",
       "        -2.52250667e+02, -2.45600167e+02, -2.38949667e+02, -2.32299167e+02,\n",
       "        -2.25648667e+02, -2.18998167e+02, -2.12347667e+02, -2.05697167e+02,\n",
       "        -1.99046667e+02, -1.92396167e+02, -1.85745667e+02, -1.79095167e+02,\n",
       "        -1.72444667e+02, -1.65794167e+02, -1.59143667e+02, -1.52493167e+02,\n",
       "        -1.45842667e+02, -1.39192167e+02, -1.32541667e+02, -1.25891167e+02,\n",
       "        -1.19240667e+02, -1.12590167e+02, -1.05939667e+02, -9.92891667e+01,\n",
       "        -9.26386667e+01, -8.59881667e+01, -7.93376667e+01, -7.26871667e+01,\n",
       "        -6.60366667e+01, -5.93861667e+01, -5.27356667e+01, -4.60851667e+01,\n",
       "        -3.94346667e+01, -3.27841667e+01, -2.61336667e+01, -1.94831667e+01,\n",
       "        -1.28326667e+01, -6.18216667e+00,  4.68333333e-01,  7.11883333e+00,\n",
       "         1.37693333e+01,  2.04198333e+01,  2.70703333e+01,  3.37208333e+01,\n",
       "         4.03713333e+01,  4.70218333e+01,  5.36723333e+01,  6.03228333e+01,\n",
       "         6.69733333e+01,  7.36238333e+01,  8.02743333e+01,  8.69248333e+01,\n",
       "         9.35753333e+01,  1.00225833e+02,  1.06876333e+02,  1.13526833e+02,\n",
       "         1.20177333e+02,  1.26827833e+02,  1.33478333e+02,  1.40128833e+02,\n",
       "         1.46779333e+02,  1.53429833e+02,  1.60080333e+02,  1.66730833e+02,\n",
       "         1.73381333e+02,  1.80031833e+02,  1.86682333e+02,  1.93332833e+02,\n",
       "         1.99983333e+02]),\n",
       " <BarContainer object of 200 artists>)"
      ]
     },
     "execution_count": 23,
     "metadata": {},
     "output_type": "execute_result"
    },
    {
     "data": {
      "image/png": "[encoded data removed]",
      "text/plain": [
       "<Figure size 432x288 with 1 Axes>"
      ]
     },
     "metadata": {
      "needs_background": "light"
     },
     "output_type": "display_data"
    }
   ],
   "source": [
    "plt.hist(data1['Duration'].loc[data1['Duration']<200], bins=200)"
   ]
  },
  {
   "cell_type": "code",
   "execution_count": 24,
   "id": "bcac9e07",
   "metadata": {},
   "outputs": [
    {
     "data": {
      "text/plain": [
       "30372211"
      ]
     },
     "execution_count": 24,
     "metadata": {},
     "output_type": "execute_result"
    }
   ],
   "source": [
    "cleaned_data = data1.loc[(data1['Duration']>0)&(data1['Duration']<200)]\n",
    "len(cleaned_data)"
   ]
  },
  {
   "cell_type": "code",
   "execution_count": 25,
   "id": "4e9ecd79",
   "metadata": {},
   "outputs": [
    {
     "data": {
      "text/html": [
       "<div>\n",
       "<style scoped>\n",
       "    .dataframe tbody tr th:only-of-type {\n",
       "        vertical-align: middle;\n",
       "    }\n",
       "\n",
       "    .dataframe tbody tr th {\n",
       "        vertical-align: top;\n",
       "    }\n",
       "\n",
       "    .dataframe thead th {\n",
       "        text-align: right;\n",
       "    }\n",
       "</style>\n",
       "<table border=\"1\" class=\"dataframe\">\n",
       "  <thead>\n",
       "    <tr style=\"text-align: right;\">\n",
       "      <th></th>\n",
       "      <th>ride_id</th>\n",
       "      <th>started_at</th>\n",
       "      <th>ended_at</th>\n",
       "      <th>start_lat</th>\n",
       "      <th>start_lng</th>\n",
       "      <th>end_lat</th>\n",
       "      <th>end_lng</th>\n",
       "      <th>Date</th>\n",
       "      <th>Duration</th>\n",
       "    </tr>\n",
       "  </thead>\n",
       "  <tbody>\n",
       "    <tr>\n",
       "      <th>0</th>\n",
       "      <td>FA2F660C8D433037</td>\n",
       "      <td>2022-03-04 18:58:36</td>\n",
       "      <td>2022-03-04 19:13:51</td>\n",
       "      <td>40.731911</td>\n",
       "      <td>-74.008769</td>\n",
       "      <td>40.734814</td>\n",
       "      <td>-73.992085</td>\n",
       "      <td>2022-03-04</td>\n",
       "      <td>15.250000</td>\n",
       "    </tr>\n",
       "    <tr>\n",
       "      <th>1</th>\n",
       "      <td>03B6FE6FAEE61465</td>\n",
       "      <td>2022-03-06 20:37:09</td>\n",
       "      <td>2022-03-06 20:45:28</td>\n",
       "      <td>40.731911</td>\n",
       "      <td>-74.008769</td>\n",
       "      <td>40.735324</td>\n",
       "      <td>-73.998004</td>\n",
       "      <td>2022-03-06</td>\n",
       "      <td>8.316667</td>\n",
       "    </tr>\n",
       "    <tr>\n",
       "      <th>2</th>\n",
       "      <td>6E6995761B4A5760</td>\n",
       "      <td>2022-03-01 15:13:49</td>\n",
       "      <td>2022-03-01 15:19:53</td>\n",
       "      <td>40.792327</td>\n",
       "      <td>-73.938300</td>\n",
       "      <td>40.796154</td>\n",
       "      <td>-73.947821</td>\n",
       "      <td>2022-03-01</td>\n",
       "      <td>6.066667</td>\n",
       "    </tr>\n",
       "    <tr>\n",
       "      <th>3</th>\n",
       "      <td>AA51CCF6CEDD6033</td>\n",
       "      <td>2022-03-11 13:59:03</td>\n",
       "      <td>2022-03-11 14:06:43</td>\n",
       "      <td>40.763359</td>\n",
       "      <td>-73.928647</td>\n",
       "      <td>40.766824</td>\n",
       "      <td>-73.930486</td>\n",
       "      <td>2022-03-11</td>\n",
       "      <td>7.666667</td>\n",
       "    </tr>\n",
       "    <tr>\n",
       "      <th>4</th>\n",
       "      <td>72AA3A7D430D8EF8</td>\n",
       "      <td>2022-03-08 14:59:16</td>\n",
       "      <td>2022-03-08 15:05:04</td>\n",
       "      <td>40.763359</td>\n",
       "      <td>-73.928647</td>\n",
       "      <td>40.766824</td>\n",
       "      <td>-73.930486</td>\n",
       "      <td>2022-03-08</td>\n",
       "      <td>5.800000</td>\n",
       "    </tr>\n",
       "  </tbody>\n",
       "</table>\n",
       "</div>"
      ],
      "text/plain": [
       "            ride_id          started_at            ended_at  start_lat  \\\n",
       "0  FA2F660C8D433037 2022-03-04 18:58:36 2022-03-04 19:13:51  40.731911   \n",
       "1  03B6FE6FAEE61465 2022-03-06 20:37:09 2022-03-06 20:45:28  40.731911   \n",
       "2  6E6995761B4A5760 2022-03-01 15:13:49 2022-03-01 15:19:53  40.792327   \n",
       "3  AA51CCF6CEDD6033 2022-03-11 13:59:03 2022-03-11 14:06:43  40.763359   \n",
       "4  72AA3A7D430D8EF8 2022-03-08 14:59:16 2022-03-08 15:05:04  40.763359   \n",
       "\n",
       "   start_lng    end_lat    end_lng        Date   Duration  \n",
       "0 -74.008769  40.734814 -73.992085  2022-03-04  15.250000  \n",
       "1 -74.008769  40.735324 -73.998004  2022-03-06   8.316667  \n",
       "2 -73.938300  40.796154 -73.947821  2022-03-01   6.066667  \n",
       "3 -73.928647  40.766824 -73.930486  2022-03-11   7.666667  \n",
       "4 -73.928647  40.766824 -73.930486  2022-03-08   5.800000  "
      ]
     },
     "execution_count": 25,
     "metadata": {},
     "output_type": "execute_result"
    }
   ],
   "source": [
    "cleaned_data.head()"
   ]
  },
  {
   "cell_type": "code",
   "execution_count": 28,
   "id": "17cc560b",
   "metadata": {},
   "outputs": [
    {
     "data": {
      "text/html": [
       "<div>\n",
       "<style scoped>\n",
       "    .dataframe tbody tr th:only-of-type {\n",
       "        vertical-align: middle;\n",
       "    }\n",
       "\n",
       "    .dataframe tbody tr th {\n",
       "        vertical-align: top;\n",
       "    }\n",
       "\n",
       "    .dataframe thead th {\n",
       "        text-align: right;\n",
       "    }\n",
       "</style>\n",
       "<table border=\"1\" class=\"dataframe\">\n",
       "  <thead>\n",
       "    <tr style=\"text-align: right;\">\n",
       "      <th></th>\n",
       "      <th>Date</th>\n",
       "      <th>ridership</th>\n",
       "    </tr>\n",
       "  </thead>\n",
       "  <tbody>\n",
       "    <tr>\n",
       "      <th>0</th>\n",
       "      <td>2021-11-01</td>\n",
       "      <td>89393</td>\n",
       "    </tr>\n",
       "    <tr>\n",
       "      <th>1</th>\n",
       "      <td>2021-11-02</td>\n",
       "      <td>82517</td>\n",
       "    </tr>\n",
       "    <tr>\n",
       "      <th>2</th>\n",
       "      <td>2021-11-03</td>\n",
       "      <td>86957</td>\n",
       "    </tr>\n",
       "    <tr>\n",
       "      <th>3</th>\n",
       "      <td>2021-11-04</td>\n",
       "      <td>85541</td>\n",
       "    </tr>\n",
       "    <tr>\n",
       "      <th>4</th>\n",
       "      <td>2021-11-05</td>\n",
       "      <td>85993</td>\n",
       "    </tr>\n",
       "    <tr>\n",
       "      <th>...</th>\n",
       "      <td>...</td>\n",
       "      <td>...</td>\n",
       "    </tr>\n",
       "    <tr>\n",
       "      <th>360</th>\n",
       "      <td>2022-10-27</td>\n",
       "      <td>118803</td>\n",
       "    </tr>\n",
       "    <tr>\n",
       "      <th>361</th>\n",
       "      <td>2022-10-28</td>\n",
       "      <td>109263</td>\n",
       "    </tr>\n",
       "    <tr>\n",
       "      <th>362</th>\n",
       "      <td>2022-10-29</td>\n",
       "      <td>107748</td>\n",
       "    </tr>\n",
       "    <tr>\n",
       "      <th>363</th>\n",
       "      <td>2022-10-30</td>\n",
       "      <td>98068</td>\n",
       "    </tr>\n",
       "    <tr>\n",
       "      <th>364</th>\n",
       "      <td>2022-10-31</td>\n",
       "      <td>99214</td>\n",
       "    </tr>\n",
       "  </tbody>\n",
       "</table>\n",
       "<p>365 rows × 2 columns</p>\n",
       "</div>"
      ],
      "text/plain": [
       "           Date  ridership\n",
       "0    2021-11-01      89393\n",
       "1    2021-11-02      82517\n",
       "2    2021-11-03      86957\n",
       "3    2021-11-04      85541\n",
       "4    2021-11-05      85993\n",
       "..          ...        ...\n",
       "360  2022-10-27     118803\n",
       "361  2022-10-28     109263\n",
       "362  2022-10-29     107748\n",
       "363  2022-10-30      98068\n",
       "364  2022-10-31      99214\n",
       "\n",
       "[365 rows x 2 columns]"
      ]
     },
     "execution_count": 28,
     "metadata": {},
     "output_type": "execute_result"
    }
   ],
   "source": [
    "ridedata = cleaned_data.groupby('Date').agg({'ride_id':'count'}).rename(columns={'ride_id':'ridership'}).reset_index()\n",
    "ridedata"
   ]
  },
  {
   "cell_type": "code",
   "execution_count": 31,
   "id": "2ccc871c",
   "metadata": {},
   "outputs": [],
   "source": [
    "daily = ridedata"
   ]
  },
  {
   "cell_type": "code",
   "execution_count": 32,
   "id": "810adb5d",
   "metadata": {},
   "outputs": [],
   "source": [
    "daily.to_csv('CitiDaily.csv')"
   ]
  },
  {
   "cell_type": "code",
   "execution_count": null,
   "id": "29dcb281",
   "metadata": {},
   "outputs": [],
   "source": []
  }
 ],
 "metadata": {
  "kernelspec": {
   "display_name": "Python 3 (ipykernel)",
   "language": "python",
   "name": "python3"
  },
  "language_info": {
   "codemirror_mode": {
    "name": "ipython",
    "version": 3
   },
   "file_extension": ".py",
   "mimetype": "text/x-python",
   "name": "python",
   "nbconvert_exporter": "python",
   "pygments_lexer": "ipython3",
   "version": "3.9.10"
  }
 },
 "nbformat": 4,
 "nbformat_minor": 5
}
