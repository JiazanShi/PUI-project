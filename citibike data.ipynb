{
 "cells": [
  {
   "cell_type": "code",
   "execution_count": 1,
   "id": "75ffd285",
   "metadata": {},
   "outputs": [],
   "source": [
    "import pandas as pd\n",
    "import glob\n",
    "import os"
   ]
  },
  {
   "cell_type": "code",
   "execution_count": 2,
   "id": "5da3ae11",
   "metadata": {},
   "outputs": [
    {
     "data": {
      "text/plain": [
       "['Raw data/202203-citibike-tripdata.csv',\n",
       " 'Raw data/202209-citibike-tripdata.csv',\n",
       " 'Raw data/202207-citbike-tripdata.csv',\n",
       " 'Raw data/202201-citibike-tripdata.csv',\n",
       " 'Raw data/202111-citibike-tripdata.csv',\n",
       " 'Raw data/202205-citibike-tripdata.csv',\n",
       " 'Raw data/202206-citbike-tripdata.csv',\n",
       " 'Raw data/202112-citibike-tripdata.csv',\n",
       " 'Raw data/202202-citibike-tripdata.csv',\n",
       " 'Raw data/202208-citibike-tripdata.csv',\n",
       " 'Raw data/202210-citibike-tripdata.csv',\n",
       " 'Raw data/202204-citibike-tripdata.csv']"
      ]
     },
     "execution_count": 2,
     "metadata": {},
     "output_type": "execute_result"
    }
   ],
   "source": [
    "files = os.path.join('Raw data/','*.csv')\n",
    "files_list = glob.glob(files)\n",
    "files_list"
   ]
  },
  {
   "cell_type": "code",
   "execution_count": 4,
   "id": "cb7bcec9",
   "metadata": {},
   "outputs": [
    {
     "name": "stderr",
     "output_type": "stream",
     "text": [
      "/var/folders/m_/swwg3ntd0f77llsbm3pv8_r00000gn/T/ipykernel_47597/1319481498.py:1: DtypeWarning: Columns (5,7) have mixed types. Specify dtype option on import or set low_memory=False.\n",
      "  df = pd.concat(map(pd.read_csv, files_list),ignore_index=True)\n",
      "/var/folders/m_/swwg3ntd0f77llsbm3pv8_r00000gn/T/ipykernel_47597/1319481498.py:1: DtypeWarning: Columns (5,7) have mixed types. Specify dtype option on import or set low_memory=False.\n",
      "  df = pd.concat(map(pd.read_csv, files_list),ignore_index=True)\n",
      "/var/folders/m_/swwg3ntd0f77llsbm3pv8_r00000gn/T/ipykernel_47597/1319481498.py:1: DtypeWarning: Columns (5,7) have mixed types. Specify dtype option on import or set low_memory=False.\n",
      "  df = pd.concat(map(pd.read_csv, files_list),ignore_index=True)\n",
      "/var/folders/m_/swwg3ntd0f77llsbm3pv8_r00000gn/T/ipykernel_47597/1319481498.py:1: DtypeWarning: Columns (5,7) have mixed types. Specify dtype option on import or set low_memory=False.\n",
      "  df = pd.concat(map(pd.read_csv, files_list),ignore_index=True)\n",
      "/var/folders/m_/swwg3ntd0f77llsbm3pv8_r00000gn/T/ipykernel_47597/1319481498.py:1: DtypeWarning: Columns (5,7) have mixed types. Specify dtype option on import or set low_memory=False.\n",
      "  df = pd.concat(map(pd.read_csv, files_list),ignore_index=True)\n",
      "/var/folders/m_/swwg3ntd0f77llsbm3pv8_r00000gn/T/ipykernel_47597/1319481498.py:1: DtypeWarning: Columns (5,7) have mixed types. Specify dtype option on import or set low_memory=False.\n",
      "  df = pd.concat(map(pd.read_csv, files_list),ignore_index=True)\n",
      "/var/folders/m_/swwg3ntd0f77llsbm3pv8_r00000gn/T/ipykernel_47597/1319481498.py:1: DtypeWarning: Columns (5,7) have mixed types. Specify dtype option on import or set low_memory=False.\n",
      "  df = pd.concat(map(pd.read_csv, files_list),ignore_index=True)\n",
      "/var/folders/m_/swwg3ntd0f77llsbm3pv8_r00000gn/T/ipykernel_47597/1319481498.py:1: DtypeWarning: Columns (5,7) have mixed types. Specify dtype option on import or set low_memory=False.\n",
      "  df = pd.concat(map(pd.read_csv, files_list),ignore_index=True)\n",
      "/var/folders/m_/swwg3ntd0f77llsbm3pv8_r00000gn/T/ipykernel_47597/1319481498.py:1: DtypeWarning: Columns (5,7) have mixed types. Specify dtype option on import or set low_memory=False.\n",
      "  df = pd.concat(map(pd.read_csv, files_list),ignore_index=True)\n",
      "/var/folders/m_/swwg3ntd0f77llsbm3pv8_r00000gn/T/ipykernel_47597/1319481498.py:1: DtypeWarning: Columns (5,7) have mixed types. Specify dtype option on import or set low_memory=False.\n",
      "  df = pd.concat(map(pd.read_csv, files_list),ignore_index=True)\n",
      "/var/folders/m_/swwg3ntd0f77llsbm3pv8_r00000gn/T/ipykernel_47597/1319481498.py:1: DtypeWarning: Columns (5,7) have mixed types. Specify dtype option on import or set low_memory=False.\n",
      "  df = pd.concat(map(pd.read_csv, files_list),ignore_index=True)\n",
      "/var/folders/m_/swwg3ntd0f77llsbm3pv8_r00000gn/T/ipykernel_47597/1319481498.py:1: DtypeWarning: Columns (5,7) have mixed types. Specify dtype option on import or set low_memory=False.\n",
      "  df = pd.concat(map(pd.read_csv, files_list),ignore_index=True)\n"
     ]
    }
   ],
   "source": [
    "df = pd.concat(map(pd.read_csv, files_list),ignore_index=True)"
   ]
  },
  {
   "cell_type": "code",
   "execution_count": 5,
   "id": "27fa5e3b",
   "metadata": {},
   "outputs": [
    {
     "data": {
      "text/html": [
       "<div>\n",
       "<style scoped>\n",
       "    .dataframe tbody tr th:only-of-type {\n",
       "        vertical-align: middle;\n",
       "    }\n",
       "\n",
       "    .dataframe tbody tr th {\n",
       "        vertical-align: top;\n",
       "    }\n",
       "\n",
       "    .dataframe thead th {\n",
       "        text-align: right;\n",
       "    }\n",
       "</style>\n",
       "<table border=\"1\" class=\"dataframe\">\n",
       "  <thead>\n",
       "    <tr style=\"text-align: right;\">\n",
       "      <th></th>\n",
       "      <th>ride_id</th>\n",
       "      <th>rideable_type</th>\n",
       "      <th>started_at</th>\n",
       "      <th>ended_at</th>\n",
       "      <th>start_station_name</th>\n",
       "      <th>start_station_id</th>\n",
       "      <th>end_station_name</th>\n",
       "      <th>end_station_id</th>\n",
       "      <th>start_lat</th>\n",
       "      <th>start_lng</th>\n",
       "      <th>end_lat</th>\n",
       "      <th>end_lng</th>\n",
       "      <th>member_casual</th>\n",
       "    </tr>\n",
       "  </thead>\n",
       "  <tbody>\n",
       "    <tr>\n",
       "      <th>0</th>\n",
       "      <td>FA2F660C8D433037</td>\n",
       "      <td>electric_bike</td>\n",
       "      <td>2022-03-04 18:58:36</td>\n",
       "      <td>2022-03-04 19:13:51</td>\n",
       "      <td>Washington St &amp; Barrow St</td>\n",
       "      <td>5847.08</td>\n",
       "      <td>University Pl &amp; E 14 St</td>\n",
       "      <td>5905.14</td>\n",
       "      <td>40.731911</td>\n",
       "      <td>-74.008769</td>\n",
       "      <td>40.734814</td>\n",
       "      <td>-73.992085</td>\n",
       "      <td>member</td>\n",
       "    </tr>\n",
       "    <tr>\n",
       "      <th>1</th>\n",
       "      <td>03B6FE6FAEE61465</td>\n",
       "      <td>classic_bike</td>\n",
       "      <td>2022-03-06 20:37:09</td>\n",
       "      <td>2022-03-06 20:45:28</td>\n",
       "      <td>Washington St &amp; Barrow St</td>\n",
       "      <td>5847.08</td>\n",
       "      <td>W 11 St &amp; 6 Ave</td>\n",
       "      <td>5914.03</td>\n",
       "      <td>40.731911</td>\n",
       "      <td>-74.008769</td>\n",
       "      <td>40.735324</td>\n",
       "      <td>-73.998004</td>\n",
       "      <td>member</td>\n",
       "    </tr>\n",
       "    <tr>\n",
       "      <th>2</th>\n",
       "      <td>6E6995761B4A5760</td>\n",
       "      <td>classic_bike</td>\n",
       "      <td>2022-03-01 15:13:49</td>\n",
       "      <td>2022-03-01 15:19:53</td>\n",
       "      <td>1 Ave &amp; E 110 St</td>\n",
       "      <td>7522.02</td>\n",
       "      <td>E 110 St &amp; Madison Ave</td>\n",
       "      <td>7587.14</td>\n",
       "      <td>40.792327</td>\n",
       "      <td>-73.938300</td>\n",
       "      <td>40.796154</td>\n",
       "      <td>-73.947821</td>\n",
       "      <td>member</td>\n",
       "    </tr>\n",
       "    <tr>\n",
       "      <th>3</th>\n",
       "      <td>AA51CCF6CEDD6033</td>\n",
       "      <td>classic_bike</td>\n",
       "      <td>2022-03-11 13:59:03</td>\n",
       "      <td>2022-03-11 14:06:43</td>\n",
       "      <td>Crescent St &amp; Broadway</td>\n",
       "      <td>6827.11</td>\n",
       "      <td>31 Rd &amp; 21 St</td>\n",
       "      <td>6929.02</td>\n",
       "      <td>40.763359</td>\n",
       "      <td>-73.928647</td>\n",
       "      <td>40.766824</td>\n",
       "      <td>-73.930486</td>\n",
       "      <td>member</td>\n",
       "    </tr>\n",
       "    <tr>\n",
       "      <th>4</th>\n",
       "      <td>72AA3A7D430D8EF8</td>\n",
       "      <td>classic_bike</td>\n",
       "      <td>2022-03-08 14:59:16</td>\n",
       "      <td>2022-03-08 15:05:04</td>\n",
       "      <td>Crescent St &amp; Broadway</td>\n",
       "      <td>6827.11</td>\n",
       "      <td>31 Rd &amp; 21 St</td>\n",
       "      <td>6929.02</td>\n",
       "      <td>40.763359</td>\n",
       "      <td>-73.928647</td>\n",
       "      <td>40.766824</td>\n",
       "      <td>-73.930486</td>\n",
       "      <td>member</td>\n",
       "    </tr>\n",
       "  </tbody>\n",
       "</table>\n",
       "</div>"
      ],
      "text/plain": [
       "            ride_id  rideable_type           started_at             ended_at  \\\n",
       "0  FA2F660C8D433037  electric_bike  2022-03-04 18:58:36  2022-03-04 19:13:51   \n",
       "1  03B6FE6FAEE61465   classic_bike  2022-03-06 20:37:09  2022-03-06 20:45:28   \n",
       "2  6E6995761B4A5760   classic_bike  2022-03-01 15:13:49  2022-03-01 15:19:53   \n",
       "3  AA51CCF6CEDD6033   classic_bike  2022-03-11 13:59:03  2022-03-11 14:06:43   \n",
       "4  72AA3A7D430D8EF8   classic_bike  2022-03-08 14:59:16  2022-03-08 15:05:04   \n",
       "\n",
       "          start_station_name start_station_id         end_station_name  \\\n",
       "0  Washington St & Barrow St          5847.08  University Pl & E 14 St   \n",
       "1  Washington St & Barrow St          5847.08          W 11 St & 6 Ave   \n",
       "2           1 Ave & E 110 St          7522.02   E 110 St & Madison Ave   \n",
       "3     Crescent St & Broadway          6827.11            31 Rd & 21 St   \n",
       "4     Crescent St & Broadway          6827.11            31 Rd & 21 St   \n",
       "\n",
       "  end_station_id  start_lat  start_lng    end_lat    end_lng member_casual  \n",
       "0        5905.14  40.731911 -74.008769  40.734814 -73.992085        member  \n",
       "1        5914.03  40.731911 -74.008769  40.735324 -73.998004        member  \n",
       "2        7587.14  40.792327 -73.938300  40.796154 -73.947821        member  \n",
       "3        6929.02  40.763359 -73.928647  40.766824 -73.930486        member  \n",
       "4        6929.02  40.763359 -73.928647  40.766824 -73.930486        member  "
      ]
     },
     "execution_count": 5,
     "metadata": {},
     "output_type": "execute_result"
    }
   ],
   "source": [
    "df.head()"
   ]
  },
  {
   "cell_type": "code",
   "execution_count": 6,
   "id": "cd401cbf",
   "metadata": {},
   "outputs": [],
   "source": [
    "citibike = df\n",
    "citibike.to_csv('citibike.csv')"
   ]
  },
  {
   "cell_type": "code",
   "execution_count": null,
   "id": "8ff4855c",
   "metadata": {},
   "outputs": [],
   "source": []
  }
 ],
 "metadata": {
  "kernelspec": {
   "display_name": "Python 3 (ipykernel)",
   "language": "python",
   "name": "python3"
  },
  "language_info": {
   "codemirror_mode": {
    "name": "ipython",
    "version": 3
   },
   "file_extension": ".py",
   "mimetype": "text/x-python",
   "name": "python",
   "nbconvert_exporter": "python",
   "pygments_lexer": "ipython3",
   "version": "3.9.10"
  }
 },
 "nbformat": 4,
 "nbformat_minor": 5
}
